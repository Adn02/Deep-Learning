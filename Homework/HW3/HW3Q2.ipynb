{
 "cells": [
  {
   "cell_type": "markdown",
   "id": "d9f021e8-3a52-4f89-88c4-303c3bdcfd00",
   "metadata": {},
   "source": [
    "<h1>Problem 2</h1> \n",
    "<t>Build the model for rnn.LSTM and rnn.GRU for the tiny Shakespeare dataset. Train the models for the sequence of 20 and 30, report and compare training loss, validation accuracy, execution time for training, and computational and mode size complexities across the two models. \n",
    "Adjust the hyperparameters (fully connected network, number of hidden layers, and the number of hidden states) and compare your results (training and validation loss, computation complexity, model size, training and inference time, and the output sequence). Analyze their influence on accuracy, running time, and computational perplexity.</t>"
   ]
  },
  {
   "cell_type": "markdown",
   "id": "70e9aeb4-916e-4bc0-b3a4-3d5ed79de627",
   "metadata": {},
   "source": [
    "<h2>Data Preprocessing</h2>"
   ]
  },
  {
   "cell_type": "code",
   "execution_count": 1,
   "id": "19e1018f-74d1-477d-a056-ec3939a585f0",
   "metadata": {},
   "outputs": [],
   "source": [
    "from torch.utils.data import Dataset, DataLoader\n",
    "import torch.optim as optim\n",
    "import torch.nn as nn\n",
    "import requests\n",
    "import torch\n",
    "import time\n",
    "\n",
    "from sklearn.model_selection import train_test_split\n",
    "import matplotlib.pyplot as plt\n",
    "from tqdm.notebook import tqdm\n",
    "from torchinfo import summary\n",
    "import numpy as np\n",
    "\n",
    "device = torch.device(\"cuda\" if torch.cuda.is_available() else \"cpu\")"
   ]
  },
  {
   "cell_type": "markdown",
   "id": "1aa668ac-06b5-4628-8f4e-acd906d75b33",
   "metadata": {},
   "source": [
    "<h3>Load Text File:</h3>"
   ]
  },
  {
   "cell_type": "code",
   "execution_count": 5,
   "id": "9706452f-543a-4905-8b0e-6e9e1e17b906",
   "metadata": {},
   "outputs": [
    {
     "name": "stdout",
     "output_type": "stream",
     "text": [
      "[18, 47, 56, 57, 58, 1, 15, 47, 58, 47, 64, 43, 52, 10, 0, 14, 43, 44, 53, 56, 43, 1, 61, 43, 1, 54, 56, 53, 41, 43, 43, 42, 1, 39, 52, 63, 1, 44, 59, 56, 58, 46, 43, 56, 6, 1, 46, 43, 39, 56, 1, 51, 43, 1, 57, 54, 43, 39, 49, 8, 0, 0, 13, 50, 50, 10, 0, 31, 54, 43, 39, 49, 6, 1, 57, 54, 43, 39, 49, 8, 0, 0, 18, 47, 56, 57, 58, 1, 15, 47, 58, 47, 64, 43, 52, 10, 0, 37, 53, 59]\n"
     ]
    }
   ],
   "source": [
    "textPath = \"C:/Users/aidan_000/Desktop/UNCC/Github/Intro-to-DL/datasets/text-sequences/shakespeare.txt\"\n",
    "\n",
    "with open(textPath, \"r\") as file:\n",
    "    text = file.read()\n",
    "\n",
    "# Grab unique characters from the text\n",
    "chars = sorted(list(set(text)))\n",
    "\n",
    "# Create Dictionary to map each character to an unique int\n",
    "idxTochar = {}\n",
    "for i, char in enumerate(chars):\n",
    "    idxTochar[i] = char\n",
    "\n",
    "# Create Dictionary to map each int to a unique character\n",
    "charToidx = {}\n",
    "for i, char in enumerate(chars):\n",
    "    charToidx[char] = i\n",
    "\n",
    "encoded_text = [charToidx[char] for char in text]"
   ]
  },
  {
   "cell_type": "markdown",
   "id": "dbb029e4-61b0-4b0f-961c-c322849f675a",
   "metadata": {},
   "source": [
    "<h3>Create Input Sequence and Dataset:</h3>"
   ]
  },
  {
   "cell_type": "code",
   "execution_count": 4,
   "id": "38273fb9-23bf-424e-bea8-d6966ed078fa",
   "metadata": {},
   "outputs": [],
   "source": [
    "sequence_len = [20, 30, 50] # Input sequence length\n",
    "\n",
    "k = 2 # 0, 1, choose input length\n",
    "\n",
    "sequences, targets = [], []\n",
    "for i in range(0, len(encoded_text) - sequence_len[k]):\n",
    "    sequence = encoded_text[i: i+sequence_len[k]]\n",
    "    target = encoded_text[i+sequence_len[k]]\n",
    "    \n",
    "    sequences.append(sequence)\n",
    "    targets.append(target)\n",
    "\n",
    "sequences = torch.tensor(sequences, dtype=torch.long)\n",
    "targets = torch.tensor(targets, dtype=torch.long)\n",
    "\n",
    "class CharacterDataset(Dataset):\n",
    "    def __init__(self, features, labels):\n",
    "        self.sequences = sequences\n",
    "        self.targets = targets\n",
    "\n",
    "    def __len__(self):\n",
    "        return len(self.sequences)\n",
    "\n",
    "    def __getitem__(self, idx):\n",
    "        return self.sequences[idx], self.targets[idx]\n",
    "\n",
    "dataset = CharacterDataset(sequences, targets)\n",
    "\n",
    "batch_size = 128\n",
    "train_size = int(len(dataset) * 0.8)\n",
    "test_size = len(dataset) - train_size\n",
    "training_dataset, validation_dataset = torch.utils.data.random_split(dataset, [train_size, test_size])\n",
    "\n",
    "#Create DataLoaders for train and test sets\n",
    "training_loader = DataLoader(dataset=training_dataset, batch_size=batch_size, shuffle=True)\n",
    "validation_loader = DataLoader(dataset=validation_dataset, batch_size=batch_size, shuffle=False)"
   ]
  },
  {
   "cell_type": "markdown",
   "id": "3659acb9-6e11-4ebc-8eda-576c298b1e56",
   "metadata": {},
   "source": [
    "<h3>Model Training and Inferencing Function:</h3>"
   ]
  },
  {
   "cell_type": "code",
   "execution_count": 5,
   "id": "b5cf5d9d-2994-4762-94f1-6f83db908d07",
   "metadata": {},
   "outputs": [],
   "source": [
    "def train_model(model, criterion, optimizer, epochs, update_interval):\n",
    "    \n",
    "    training_losses = []\n",
    "    validation_accuracies = []\n",
    "    pbar_updateInterval = 0\n",
    "    starting_time = time.time()\n",
    "\n",
    "    for epoch in range(epochs):\n",
    "        model.train()\n",
    "        running_loss = 0.0\n",
    "        start_train = time.time()\n",
    "        \n",
    "        for inputs, labels in training_loader:\n",
    "            inputs, labels = inputs.to(device), labels.to(device)\n",
    "            \n",
    "            optimizer.zero_grad()\n",
    "            train_output = model(inputs)\n",
    "            \n",
    "            train_loss = criterion(train_output, labels)\n",
    "            running_loss += train_loss.item()\n",
    "            \n",
    "            train_loss.backward()\n",
    "            optimizer.step()\n",
    "\n",
    "        training_loss = running_loss / len(training_loader)\n",
    "        training_losses.append(training_loss)\n",
    "        \n",
    "        end_train = time.time()\n",
    "        training_time = end_train - start_train\n",
    "\n",
    "        model.eval()\n",
    "        start_valid = time.time()\n",
    "\n",
    "        with torch.no_grad():\n",
    "            total_correct = 0\n",
    "            total_samples = 0\n",
    "            \n",
    "            for inputs, labels in validation_loader:\n",
    "                inputs, labels = inputs.to(device), labels.to(device)\n",
    "                valid_output = model(inputs)\n",
    "                _, predicted = torch.max(valid_output, 1)\n",
    "                total_correct += (predicted == labels).sum().item()\n",
    "                total_samples += labels.size(0)\n",
    "        \n",
    "            validation_accuracy = total_correct / total_samples * 100\n",
    "            validation_accuracies.append(validation_accuracy)\n",
    "\n",
    "        end_valid = time.time()\n",
    "        validation_time = end_valid - start_valid\n",
    "\n",
    "        if(epoch + 1) % update_interval == 0:\n",
    "            with tqdm(total=epochs, desc=f'Epoch {epoch + 1}/{epochs}', bar_format='{l_bar}{bar}|{postfix}', dynamic_ncols=True) as pbar:\n",
    "                pbar.update(epoch+1)\n",
    "                pbar.set_postfix({'Training Loss ':' 'f'{training_losses[-1]:.4f}', 'Validation Accuracy':f'{validation_accuracies[-1]:.2f}%'})\n",
    "        \n",
    "    total_time = time.time() - starting_time\n",
    "\n",
    "    print(f'\\nTotal Duration: {total_time:.2f}s')\n",
    "    print(f'Training Duration: {training_time:.2f}s')\n",
    "    print(f'Inference Duration: {validation_time:.2f}s')\n",
    "\n",
    "    print(f'\\nFinal Training Loss: {training_losses[-1]:.4f}')\n",
    "    print(f'Final Validation Accuracy: {validation_accuracies[-1]:.2f}%')\n",
    "    \n",
    "    return training_losses, validation_accuracies, training_time, validation_time\n",
    "\n",
    "\n",
    "# Prediction function\n",
    "def charInference(model, charToidx, idxTochar, initial_string):\n",
    "    model.eval()\n",
    "    with torch.no_grad():\n",
    "        initial_input = torch.tensor([charToidx[c] for c in initial_string[-sequence_len[k]:]], dtype=torch.long).unsqueeze(0).to(device)\n",
    "        prediction = model(initial_input)\n",
    "        predicted_index = torch.argmax(prediction, dim=1).item()\n",
    "        return idxTochar[predicted_index]"
   ]
  },
  {
   "cell_type": "markdown",
   "id": "11f90f5c-8bf5-4fb9-a4f1-d220721f28ba",
   "metadata": {},
   "source": [
    "<h2>Next Character LSTM Model</h2>"
   ]
  },
  {
   "cell_type": "markdown",
   "id": "aed9763e-9dcb-4a36-a8bb-a7249fc4a753",
   "metadata": {},
   "source": [
    "<h3>Define LSTM Model:</h3>"
   ]
  },
  {
   "cell_type": "code",
   "execution_count": 6,
   "id": "3ca5e071-3b1b-4b3b-9b71-3fefb8c6914e",
   "metadata": {},
   "outputs": [],
   "source": [
    "class NextCharLSTM(nn.Module):\n",
    "    def __init__(self, input_size, hidden_size, output_size):\n",
    "        super(NextCharLSTM, self).__init__()\n",
    "        self.hidden_size = hidden_size\n",
    "        self.embedding = nn.Embedding(input_size, hidden_size)\n",
    "        self.lstm = nn.LSTM(hidden_size, hidden_size, batch_first=True)\n",
    "        self.fc = nn.Linear(hidden_size, output_size)\n",
    "\n",
    "    def forward(self, x):\n",
    "        embedded = self.embedding(x)\n",
    "        output, _ = self.lstm(embedded)\n",
    "        output = self.fc(output[:, -1, :])\n",
    "        return output"
   ]
  },
  {
   "cell_type": "markdown",
   "id": "ec2f9b9e-4684-4d7f-80c6-8f9e1d8b4af6",
   "metadata": {},
   "source": [
    "<h3>Hyperparameters and Training:</h3>"
   ]
  },
  {
   "cell_type": "code",
   "execution_count": 7,
   "id": "61bf9924-11bd-4a67-aaa8-7101747026a4",
   "metadata": {},
   "outputs": [
    {
     "data": {
      "application/vnd.jupyter.widget-view+json": {
       "model_id": "1327f66418f34c86af7b20095f570516",
       "version_major": 2,
       "version_minor": 0
      },
      "text/plain": [
       "Epoch 1/20:   0%|          |"
      ]
     },
     "metadata": {},
     "output_type": "display_data"
    },
    {
     "data": {
      "application/vnd.jupyter.widget-view+json": {
       "model_id": "0fdfaaffa2d940448e3987f8eef79d61",
       "version_major": 2,
       "version_minor": 0
      },
      "text/plain": [
       "Epoch 2/20:   0%|          |"
      ]
     },
     "metadata": {},
     "output_type": "display_data"
    },
    {
     "data": {
      "application/vnd.jupyter.widget-view+json": {
       "model_id": "48e60b8d297f48069b6a72bd74103677",
       "version_major": 2,
       "version_minor": 0
      },
      "text/plain": [
       "Epoch 3/20:   0%|          |"
      ]
     },
     "metadata": {},
     "output_type": "display_data"
    },
    {
     "data": {
      "application/vnd.jupyter.widget-view+json": {
       "model_id": "6cd6566af5934a3f9ab9e2b0c334060b",
       "version_major": 2,
       "version_minor": 0
      },
      "text/plain": [
       "Epoch 4/20:   0%|          |"
      ]
     },
     "metadata": {},
     "output_type": "display_data"
    },
    {
     "data": {
      "application/vnd.jupyter.widget-view+json": {
       "model_id": "b831852eb7aa4a289c591306c2d668d9",
       "version_major": 2,
       "version_minor": 0
      },
      "text/plain": [
       "Epoch 5/20:   0%|          |"
      ]
     },
     "metadata": {},
     "output_type": "display_data"
    },
    {
     "data": {
      "application/vnd.jupyter.widget-view+json": {
       "model_id": "b119dcfe54914d75b8b9c2473c97f688",
       "version_major": 2,
       "version_minor": 0
      },
      "text/plain": [
       "Epoch 6/20:   0%|          |"
      ]
     },
     "metadata": {},
     "output_type": "display_data"
    },
    {
     "data": {
      "application/vnd.jupyter.widget-view+json": {
       "model_id": "2acee6f15ef74655bfbf19a61dcb46b9",
       "version_major": 2,
       "version_minor": 0
      },
      "text/plain": [
       "Epoch 7/20:   0%|          |"
      ]
     },
     "metadata": {},
     "output_type": "display_data"
    },
    {
     "data": {
      "application/vnd.jupyter.widget-view+json": {
       "model_id": "d2d701050dec4cab8caf816ba5834adb",
       "version_major": 2,
       "version_minor": 0
      },
      "text/plain": [
       "Epoch 8/20:   0%|          |"
      ]
     },
     "metadata": {},
     "output_type": "display_data"
    },
    {
     "data": {
      "application/vnd.jupyter.widget-view+json": {
       "model_id": "35c32c141de5472c9acaeabd5c50b80d",
       "version_major": 2,
       "version_minor": 0
      },
      "text/plain": [
       "Epoch 9/20:   0%|          |"
      ]
     },
     "metadata": {},
     "output_type": "display_data"
    },
    {
     "data": {
      "application/vnd.jupyter.widget-view+json": {
       "model_id": "6171d1da17e64fb8bc28ef5d6e0f5594",
       "version_major": 2,
       "version_minor": 0
      },
      "text/plain": [
       "Epoch 10/20:   0%|          |"
      ]
     },
     "metadata": {},
     "output_type": "display_data"
    },
    {
     "data": {
      "application/vnd.jupyter.widget-view+json": {
       "model_id": "284206c7080548a1b1ba87d56cc135d8",
       "version_major": 2,
       "version_minor": 0
      },
      "text/plain": [
       "Epoch 11/20:   0%|          |"
      ]
     },
     "metadata": {},
     "output_type": "display_data"
    },
    {
     "data": {
      "application/vnd.jupyter.widget-view+json": {
       "model_id": "de04712dce1e4cbbab5b4166915f43c7",
       "version_major": 2,
       "version_minor": 0
      },
      "text/plain": [
       "Epoch 12/20:   0%|          |"
      ]
     },
     "metadata": {},
     "output_type": "display_data"
    },
    {
     "data": {
      "application/vnd.jupyter.widget-view+json": {
       "model_id": "22d1f4fe70cf45218be367ff44ed021f",
       "version_major": 2,
       "version_minor": 0
      },
      "text/plain": [
       "Epoch 13/20:   0%|          |"
      ]
     },
     "metadata": {},
     "output_type": "display_data"
    },
    {
     "data": {
      "application/vnd.jupyter.widget-view+json": {
       "model_id": "eec5aeed22cd4e62afad74ffb75ce772",
       "version_major": 2,
       "version_minor": 0
      },
      "text/plain": [
       "Epoch 14/20:   0%|          |"
      ]
     },
     "metadata": {},
     "output_type": "display_data"
    },
    {
     "data": {
      "application/vnd.jupyter.widget-view+json": {
       "model_id": "1b862e246ea94a4e852fa490c0e664b9",
       "version_major": 2,
       "version_minor": 0
      },
      "text/plain": [
       "Epoch 15/20:   0%|          |"
      ]
     },
     "metadata": {},
     "output_type": "display_data"
    },
    {
     "data": {
      "application/vnd.jupyter.widget-view+json": {
       "model_id": "295ebc6a6ab442ebba129d799da01deb",
       "version_major": 2,
       "version_minor": 0
      },
      "text/plain": [
       "Epoch 16/20:   0%|          |"
      ]
     },
     "metadata": {},
     "output_type": "display_data"
    },
    {
     "data": {
      "application/vnd.jupyter.widget-view+json": {
       "model_id": "e223ebbd0f7142b18106b0b2d8d2afe0",
       "version_major": 2,
       "version_minor": 0
      },
      "text/plain": [
       "Epoch 17/20:   0%|          |"
      ]
     },
     "metadata": {},
     "output_type": "display_data"
    },
    {
     "data": {
      "application/vnd.jupyter.widget-view+json": {
       "model_id": "fd474e481a2a4541a5fadc8342eb451d",
       "version_major": 2,
       "version_minor": 0
      },
      "text/plain": [
       "Epoch 18/20:   0%|          |"
      ]
     },
     "metadata": {},
     "output_type": "display_data"
    },
    {
     "data": {
      "application/vnd.jupyter.widget-view+json": {
       "model_id": "36304a154ab64b288380064bce6c6c60",
       "version_major": 2,
       "version_minor": 0
      },
      "text/plain": [
       "Epoch 19/20:   0%|          |"
      ]
     },
     "metadata": {},
     "output_type": "display_data"
    },
    {
     "data": {
      "application/vnd.jupyter.widget-view+json": {
       "model_id": "64cc4c6d0115400bb91b1cbc53ac86d5",
       "version_major": 2,
       "version_minor": 0
      },
      "text/plain": [
       "Epoch 20/20:   0%|          |"
      ]
     },
     "metadata": {},
     "output_type": "display_data"
    },
    {
     "name": "stdout",
     "output_type": "stream",
     "text": [
      "\n",
      "Total Duration: 457.56s\n",
      "Training Duration: 20.05s\n",
      "Inference Duration: 2.73s\n",
      "\n",
      "Final Training Loss: 1.3249\n",
      "Final Validation Accuracy: 58.03%\n"
     ]
    }
   ],
   "source": [
    "input_size = len(chars)\n",
    "output_size = len(chars)\n",
    "hidden_size = 128\n",
    "\n",
    "lr = 0.001\n",
    "epochs = 20\n",
    "update_interval = 1\n",
    "\n",
    "modelLSTM = NextCharLSTM(input_size, hidden_size, output_size).to(device)\n",
    "criterion = nn.CrossEntropyLoss()\n",
    "optimizer = optim.Adam(modelLSTM.parameters(), lr=lr)\n",
    "\n",
    "LSTM_training_losses, LSTM_validation_accuracies, LSTM_training_time, LSTM_inference_time = train_model(modelLSTM, criterion, optimizer, epochs, update_interval)\n",
    "torch.save(modelLSTM, 'ShakespeareLSTM')"
   ]
  },
  {
   "cell_type": "markdown",
   "id": "edbf3d9c-938c-4bec-a966-daef6e05ea24",
   "metadata": {},
   "source": [
    "<h3>Model Inferencing and Analysis</h3>"
   ]
  },
  {
   "cell_type": "code",
   "execution_count": 8,
   "id": "6c154e67-b328-4477-9803-b4b8f04b9fea",
   "metadata": {},
   "outputs": [
    {
     "name": "stdout",
     "output_type": "stream",
     "text": [
      "Original test string: They called me crazy and \n",
      "\n",
      "Updated test string: They called me crazy and her\n",
      "To so \n"
     ]
    }
   ],
   "source": [
    "# modelLSTM = torch.load('ShakespeareLSTM')\n",
    "\n",
    "# Predicting the next character\n",
    "input_string = \"They called me crazy and \"\n",
    "print(f\"Original test string: {input_string}\")\n",
    "num_characters = 10\n",
    "\n",
    "# Predict the next characters in a loop\n",
    "for _ in range(num_characters):\n",
    "    predicted_char = charInference(modelLSTM, charToidx, idxTochar, input_string)\n",
    "    input_string += predicted_char\n",
    "    \n",
    "print(f\"\\nUpdated test string: {input_string}\")"
   ]
  },
  {
   "cell_type": "markdown",
   "id": "9fc6998e-9818-42a3-a6e4-dfaef7c17e0c",
   "metadata": {},
   "source": [
    "<h2>Next Character GRU Model</h2>"
   ]
  },
  {
   "cell_type": "markdown",
   "id": "0e1ba69c-9e12-45ea-b2f1-1c830f02968d",
   "metadata": {},
   "source": [
    "<h3>Define GRU Model:</h3>"
   ]
  },
  {
   "cell_type": "code",
   "execution_count": 9,
   "id": "b0d19a51-a9b2-488a-bfa5-c76b430d395e",
   "metadata": {},
   "outputs": [],
   "source": [
    "class NextCharGRU(nn.Module):\n",
    "    def __init__(self, input_size, hidden_size, output_size):\n",
    "        super(NextCharGRU, self).__init__()\n",
    "        self.hidden_size = hidden_size\n",
    "        self.embedding = nn.Embedding(input_size, hidden_size)\n",
    "        self.gru = nn.GRU(hidden_size, hidden_size, batch_first=True)\n",
    "        self.fc = nn.Linear(hidden_size, output_size)\n",
    "\n",
    "    def forward(self, x):\n",
    "        embedded = self.embedding(x)\n",
    "        output, _ = self.gru(embedded)\n",
    "        output = self.fc(output[:, -1, :])\n",
    "        return output"
   ]
  },
  {
   "cell_type": "markdown",
   "id": "68609816-e81f-421d-b822-cb9d9977cd45",
   "metadata": {},
   "source": [
    "<h3>Hyperparameters and Training:</h3>"
   ]
  },
  {
   "cell_type": "code",
   "execution_count": 10,
   "id": "a1719915-c635-438a-a2f8-1f556a183c14",
   "metadata": {},
   "outputs": [
    {
     "data": {
      "application/vnd.jupyter.widget-view+json": {
       "model_id": "c177e0ba077b42e1ae31f1e1b564a3cb",
       "version_major": 2,
       "version_minor": 0
      },
      "text/plain": [
       "Epoch 1/20:   0%|          |"
      ]
     },
     "metadata": {},
     "output_type": "display_data"
    },
    {
     "data": {
      "application/vnd.jupyter.widget-view+json": {
       "model_id": "8628a782fcf144b58ab693a0f1c639bc",
       "version_major": 2,
       "version_minor": 0
      },
      "text/plain": [
       "Epoch 2/20:   0%|          |"
      ]
     },
     "metadata": {},
     "output_type": "display_data"
    },
    {
     "data": {
      "application/vnd.jupyter.widget-view+json": {
       "model_id": "a98fd7aa1859417c8d74ca55f8e49edb",
       "version_major": 2,
       "version_minor": 0
      },
      "text/plain": [
       "Epoch 3/20:   0%|          |"
      ]
     },
     "metadata": {},
     "output_type": "display_data"
    },
    {
     "data": {
      "application/vnd.jupyter.widget-view+json": {
       "model_id": "e1eae1c9b7c84bc1814c0fddd45f5d15",
       "version_major": 2,
       "version_minor": 0
      },
      "text/plain": [
       "Epoch 4/20:   0%|          |"
      ]
     },
     "metadata": {},
     "output_type": "display_data"
    },
    {
     "data": {
      "application/vnd.jupyter.widget-view+json": {
       "model_id": "77dda3d6032a40dda477e1ccfa280d84",
       "version_major": 2,
       "version_minor": 0
      },
      "text/plain": [
       "Epoch 5/20:   0%|          |"
      ]
     },
     "metadata": {},
     "output_type": "display_data"
    },
    {
     "data": {
      "application/vnd.jupyter.widget-view+json": {
       "model_id": "69885c9af024478a92c3e3270a3307c4",
       "version_major": 2,
       "version_minor": 0
      },
      "text/plain": [
       "Epoch 6/20:   0%|          |"
      ]
     },
     "metadata": {},
     "output_type": "display_data"
    },
    {
     "data": {
      "application/vnd.jupyter.widget-view+json": {
       "model_id": "17c7fbe225c9476bbe8cb1d23e3b73ce",
       "version_major": 2,
       "version_minor": 0
      },
      "text/plain": [
       "Epoch 7/20:   0%|          |"
      ]
     },
     "metadata": {},
     "output_type": "display_data"
    },
    {
     "data": {
      "application/vnd.jupyter.widget-view+json": {
       "model_id": "4915de8d67104276b9a1d0373367f480",
       "version_major": 2,
       "version_minor": 0
      },
      "text/plain": [
       "Epoch 8/20:   0%|          |"
      ]
     },
     "metadata": {},
     "output_type": "display_data"
    },
    {
     "data": {
      "application/vnd.jupyter.widget-view+json": {
       "model_id": "192138aadfcb447f9e2f5c5d743654ca",
       "version_major": 2,
       "version_minor": 0
      },
      "text/plain": [
       "Epoch 9/20:   0%|          |"
      ]
     },
     "metadata": {},
     "output_type": "display_data"
    },
    {
     "data": {
      "application/vnd.jupyter.widget-view+json": {
       "model_id": "a813d3775f914a8aab1c043295a36c38",
       "version_major": 2,
       "version_minor": 0
      },
      "text/plain": [
       "Epoch 10/20:   0%|          |"
      ]
     },
     "metadata": {},
     "output_type": "display_data"
    },
    {
     "data": {
      "application/vnd.jupyter.widget-view+json": {
       "model_id": "c6fcb49b6b854e2f80fbd2c250c41376",
       "version_major": 2,
       "version_minor": 0
      },
      "text/plain": [
       "Epoch 11/20:   0%|          |"
      ]
     },
     "metadata": {},
     "output_type": "display_data"
    },
    {
     "data": {
      "application/vnd.jupyter.widget-view+json": {
       "model_id": "07dc74856a584a59b044d7d3b63892be",
       "version_major": 2,
       "version_minor": 0
      },
      "text/plain": [
       "Epoch 12/20:   0%|          |"
      ]
     },
     "metadata": {},
     "output_type": "display_data"
    },
    {
     "data": {
      "application/vnd.jupyter.widget-view+json": {
       "model_id": "2b62adc029cc45a791f2cfc91ec5a3ae",
       "version_major": 2,
       "version_minor": 0
      },
      "text/plain": [
       "Epoch 13/20:   0%|          |"
      ]
     },
     "metadata": {},
     "output_type": "display_data"
    },
    {
     "data": {
      "application/vnd.jupyter.widget-view+json": {
       "model_id": "ec483912d52b4217b9a69472b209591c",
       "version_major": 2,
       "version_minor": 0
      },
      "text/plain": [
       "Epoch 14/20:   0%|          |"
      ]
     },
     "metadata": {},
     "output_type": "display_data"
    },
    {
     "data": {
      "application/vnd.jupyter.widget-view+json": {
       "model_id": "52724904240143f2b53d92575fbd364d",
       "version_major": 2,
       "version_minor": 0
      },
      "text/plain": [
       "Epoch 15/20:   0%|          |"
      ]
     },
     "metadata": {},
     "output_type": "display_data"
    },
    {
     "data": {
      "application/vnd.jupyter.widget-view+json": {
       "model_id": "c0cdeb5eb6c04697b5aa17a179951713",
       "version_major": 2,
       "version_minor": 0
      },
      "text/plain": [
       "Epoch 16/20:   0%|          |"
      ]
     },
     "metadata": {},
     "output_type": "display_data"
    },
    {
     "data": {
      "application/vnd.jupyter.widget-view+json": {
       "model_id": "315bc42e18bc43cca9fb619d9a1b800f",
       "version_major": 2,
       "version_minor": 0
      },
      "text/plain": [
       "Epoch 17/20:   0%|          |"
      ]
     },
     "metadata": {},
     "output_type": "display_data"
    },
    {
     "data": {
      "application/vnd.jupyter.widget-view+json": {
       "model_id": "21f23a014ef7431c9a99b8f80f0f966a",
       "version_major": 2,
       "version_minor": 0
      },
      "text/plain": [
       "Epoch 18/20:   0%|          |"
      ]
     },
     "metadata": {},
     "output_type": "display_data"
    },
    {
     "data": {
      "application/vnd.jupyter.widget-view+json": {
       "model_id": "31b3803fcfb043628d4146e25f5acbe2",
       "version_major": 2,
       "version_minor": 0
      },
      "text/plain": [
       "Epoch 19/20:   0%|          |"
      ]
     },
     "metadata": {},
     "output_type": "display_data"
    },
    {
     "data": {
      "application/vnd.jupyter.widget-view+json": {
       "model_id": "df8cbbf0112848369e3cfeb31e58c10f",
       "version_major": 2,
       "version_minor": 0
      },
      "text/plain": [
       "Epoch 20/20:   0%|          |"
      ]
     },
     "metadata": {},
     "output_type": "display_data"
    },
    {
     "name": "stdout",
     "output_type": "stream",
     "text": [
      "\n",
      "Total Duration: 540.88s\n",
      "Training Duration: 24.06s\n",
      "Inference Duration: 3.02s\n",
      "\n",
      "Final Training Loss: 1.3692\n",
      "Final Validation Accuracy: 56.95%\n"
     ]
    }
   ],
   "source": [
    "input_size = len(chars) \n",
    "output_size = len(chars) \n",
    "hidden_size = 256\n",
    "\n",
    "lr = 0.001\n",
    "epochs = 20\n",
    "update_interval = 1\n",
    "\n",
    "modelGRU = NextCharGRU(input_size, hidden_size, output_size).to(device)\n",
    "criterion = nn.CrossEntropyLoss()\n",
    "optimizer = optim.Adam(modelGRU.parameters(), lr=lr)\n",
    "\n",
    "GRU_training_losses, GRU_validation_accuracies, GRU_training_time, GRU_inference_time = train_model(modelGRU, criterion, optimizer, epochs, update_interval)\n",
    "torch.save(modelGRU, 'ShakespeareGRU')"
   ]
  },
  {
   "cell_type": "markdown",
   "id": "39375ba2-5468-4cff-a68b-eea667d141c9",
   "metadata": {},
   "source": [
    "<h3>Model Inferencing and Analysis</h3>"
   ]
  },
  {
   "cell_type": "code",
   "execution_count": 11,
   "id": "577a87d5-e4f6-4f6e-a270-ce366dde56f0",
   "metadata": {},
   "outputs": [
    {
     "name": "stdout",
     "output_type": "stream",
     "text": [
      "Original test string: They called me crazy and \n",
      "\n",
      "Updated test string: They called me crazy and her\n",
      "To so \n"
     ]
    }
   ],
   "source": [
    "# modelGRU = torch.load('ShakespeareGRU')\n",
    "\n",
    "# Predicting the next character\n",
    "input_string = \"They called me crazy and \"\n",
    "print(f\"Original test string: {input_string}\")\n",
    "num_characters = 10\n",
    "\n",
    "# Predict the next characters in a loop\n",
    "for _ in range(num_characters):\n",
    "    predicted_char = charInference(modelLSTM, charToidx, idxTochar, input_string)\n",
    "    input_string += predicted_char\n",
    "    \n",
    "print(f\"\\nUpdated test string: {input_string}\")"
   ]
  },
  {
   "cell_type": "markdown",
   "id": "6974e6d4-64ab-4f5a-b502-9e904ccbadce",
   "metadata": {},
   "source": [
    "<h2>Comparing Model Training Experiences</h2>"
   ]
  },
  {
   "cell_type": "code",
   "execution_count": 12,
   "id": "320ec769-e01b-4d90-b0ac-40a930a345c8",
   "metadata": {},
   "outputs": [
    {
     "data": {
      "image/png": "[encoded data removed]",
      "text/plain": [
       "<Figure size 1200x400 with 2 Axes>"
      ]
     },
     "metadata": {},
     "output_type": "display_data"
    }
   ],
   "source": [
    "epochs_range = range(1, epochs + 1)\n",
    "# Plot Training Loss\n",
    "plt.figure(figsize=(12, 4))\n",
    "plt.subplot(1, 2, 1)\n",
    "plt.plot(epochs_range, LSTM_training_losses, label='LSTM Loss', color = 'blue')\n",
    "plt.plot(epochs_range, GRU_training_losses, label='GRU Loss', color = 'orange')\n",
    "plt.title('Training Loss')\n",
    "plt.xlabel('Epoch')\n",
    "plt.ylabel('Loss')\n",
    "plt.legend()\n",
    "\n",
    "# Plot Training and Validation Accuracy\n",
    "plt.subplot(1, 2, 2)\n",
    "plt.plot(epochs_range, LSTM_validation_accuracies, label='LSTM Accuracy', color = 'blue')\n",
    "plt.plot(epochs_range, GRU_validation_accuracies, label='GRU Accuracy', color = 'orange')\n",
    "plt.title('Validation Accuracy')\n",
    "plt.xlabel('Epoch')\n",
    "plt.ylabel('Accuracy')\n",
    "plt.legend()\n",
    "\n",
    "plt.tight_layout()\n",
    "plt.show()"
   ]
  },
  {
   "cell_type": "code",
   "execution_count": 13,
   "id": "edc677f2-660b-4b58-a757-130ea0fa6e66",
   "metadata": {},
   "outputs": [
    {
     "name": "stdout",
     "output_type": "stream",
     "text": [
      "========================================================================================================\n",
      "Layer (type (var_name))                  Kernel Shape     Output Shape     Param #          Mult-Adds\n",
      "========================================================================================================\n",
      "NextCharLSTM (NextCharLSTM)              --               [50, 65]         --               --\n",
      "├─Embedding (embedding)                  --               [50, 65, 128]    8,320            416,000\n",
      "│    └─weight                            [128, 65]                         └─8,320\n",
      "├─LSTM (lstm)                            --               [50, 65, 128]    132,096          429,312,000\n",
      "│    └─weight_ih_l0                      [512, 128]                        ├─65,536\n",
      "│    └─weight_hh_l0                      [512, 128]                        ├─65,536\n",
      "│    └─bias_ih_l0                        [512]                             ├─512\n",
      "│    └─bias_hh_l0                        [512]                             └─512\n",
      "├─Linear (fc)                            --               [50, 65]         8,385            419,250\n",
      "│    └─weight                            [128, 65]                         ├─8,320\n",
      "│    └─bias                              [65]                              └─65\n",
      "========================================================================================================\n",
      "Total params: 148,801\n",
      "Trainable params: 148,801\n",
      "Non-trainable params: 0\n",
      "Total mult-adds (Units.MEGABYTES): 430.15\n",
      "========================================================================================================\n",
      "Input size (MB): 0.03\n",
      "Forward/backward pass size (MB): 6.68\n",
      "Params size (MB): 0.60\n",
      "Estimated Total Size (MB): 7.30\n",
      "========================================================================================================\n",
      "\n",
      "========================================================================================================\n",
      "Layer (type (var_name))                  Kernel Shape     Output Shape     Param #          Mult-Adds\n",
      "========================================================================================================\n",
      "NextCharGRU (NextCharGRU)                --               [50, 65]         --               --\n",
      "├─Embedding (embedding)                  --               [50, 65, 256]    16,640           832,000\n",
      "│    └─weight                            [256, 65]                         └─16,640\n",
      "├─GRU (gru)                              --               [50, 65, 256]    394,752          1,282,944,000\n",
      "│    └─weight_ih_l0                      [768, 256]                        ├─196,608\n",
      "│    └─weight_hh_l0                      [768, 256]                        ├─196,608\n",
      "│    └─bias_ih_l0                        [768]                             ├─768\n",
      "│    └─bias_hh_l0                        [768]                             └─768\n",
      "├─Linear (fc)                            --               [50, 65]         16,705           835,250\n",
      "│    └─weight                            [256, 65]                         ├─16,640\n",
      "│    └─bias                              [65]                              └─65\n",
      "========================================================================================================\n",
      "Total params: 428,097\n",
      "Trainable params: 428,097\n",
      "Non-trainable params: 0\n",
      "Total mult-adds (Units.GIGABYTES): 1.28\n",
      "========================================================================================================\n",
      "Input size (MB): 0.03\n",
      "Forward/backward pass size (MB): 13.34\n",
      "Params size (MB): 1.71\n",
      "Estimated Total Size (MB): 15.08\n",
      "========================================================================================================\n",
      "\n",
      "========================================= Total Time per Model =========================================\n",
      "LSTM Training Duration: 20.05s, LSTM Inference Duration: 2.73s\n",
      "GRU  Training Duration: 24.06s,  GRU Inference Duration: 3.02s\n",
      "========================================================================================================\n",
      "\n",
      "========================================= Accuracies per Model =========================================\n",
      "LSTM Training Loss: 1.3249, LSTM Inference Accuracy: 58.03%\n",
      "GRU  Training Loss: 1.3692,  GRU Inference Accuracy: 56.95%\n",
      "========================================================================================================\n"
     ]
    }
   ],
   "source": [
    "LSTM_stats = summary(modelLSTM, (sequence_len[k], input_size), dtypes=[torch.long], verbose=2, col_width=16, col_names=[\"kernel_size\", \"output_size\", \"num_params\", \"mult_adds\"], row_settings=[\"var_names\"])\n",
    "print()\n",
    "GRU_stats = summary(modelGRU, (sequence_len[k], input_size), dtypes=[torch.long], verbose=2, col_width=16, col_names=[\"kernel_size\", \"output_size\", \"num_params\", \"mult_adds\"], row_settings=[\"var_names\"])\n",
    "\n",
    "print(f'\\n========================================= Total Time per Model =========================================')\n",
    "print(f'LSTM Training Duration: {LSTM_training_time:.2f}s, LSTM Inference Duration: {LSTM_inference_time:.2f}s')\n",
    "print(f'GRU  Training Duration: {GRU_training_time:.2f}s,  GRU Inference Duration: {GRU_inference_time:.2f}s')\n",
    "print(f'========================================================================================================')\n",
    "\n",
    "print(f'\\n========================================= Accuracies per Model =========================================')\n",
    "print(f'LSTM Training Loss: {LSTM_training_losses[-1]:.4f}, LSTM Inference Accuracy: {LSTM_validation_accuracies[-1]:.2f}%')\n",
    "print(f'GRU  Training Loss: {GRU_training_losses[-1]:.4f},  GRU Inference Accuracy: {GRU_validation_accuracies[-1]:.2f}%')\n",
    "print(f'========================================================================================================')"
   ]
  }
 ],
 "metadata": {
  "kernelspec": {
   "display_name": "Python 3 (ipykernel)",
   "language": "python",
   "name": "python3"
  },
  "language_info": {
   "codemirror_mode": {
    "name": "ipython",
    "version": 3
   },
   "file_extension": ".py",
   "mimetype": "text/x-python",
   "name": "python",
   "nbconvert_exporter": "python",
   "pygments_lexer": "ipython3",
   "version": "3.11.5"
  }
 },
 "nbformat": 4,
 "nbformat_minor": 5
}
