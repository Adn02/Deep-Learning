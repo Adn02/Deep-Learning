{
 "cells": [
  {
   "cell_type": "markdown",
   "id": "d9f021e8-3a52-4f89-88c4-303c3bdcfd00",
   "metadata": {},
   "source": [
    "<h1>Problem 1</h1> \n",
    "<t>Train and validate rnn.RNN, rnn.LSTM and rnn.GRU for learning the text sequence provided. Use sequences of 10, 20, and 30 for your training. Feel free to adjust other network parameters. Report and compare training loss, validation accuracy, execution time for training, and computational and mode size complexities across the three models over various lengths of sequence.</t>"
   ]
  },
  {
   "cell_type": "markdown",
   "id": "70e9aeb4-916e-4bc0-b3a4-3d5ed79de627",
   "metadata": {},
   "source": [
    "<h2>Data Preprocessing</h2>"
   ]
  },
  {
   "cell_type": "code",
   "execution_count": 31,
   "id": "19e1018f-74d1-477d-a056-ec3939a585f0",
   "metadata": {},
   "outputs": [],
   "source": [
    "from torch.utils.data import Dataset, DataLoader\n",
    "import torch.optim as optim\n",
    "import torch.nn as nn\n",
    "import torch\n",
    "import time\n",
    "\n",
    "from sklearn.model_selection import train_test_split\n",
    "import matplotlib.pyplot as plt\n",
    "from tqdm.notebook import tqdm\n",
    "from torchinfo import summary\n",
    "import numpy as np\n",
    "\n",
    "device = torch.device(\"cuda\" if torch.cuda.is_available() else \"cpu\")"
   ]
  },
  {
   "cell_type": "markdown",
   "id": "1aa668ac-06b5-4628-8f4e-acd906d75b33",
   "metadata": {},
   "source": [
    "<h3>Load Text File:</h3>"
   ]
  },
  {
   "cell_type": "code",
   "execution_count": 32,
   "id": "9706452f-543a-4905-8b0e-6e9e1e17b906",
   "metadata": {},
   "outputs": [],
   "source": [
    "textPath = \"C:/Users/aidan_000/Desktop/UNCC/Github/Intro-to-DL/datasets/text-sequences/nextchar.txt\"\n",
    "\n",
    "with open(textPath, \"r\") as file:\n",
    "    text = file.read()\n",
    "\n",
    "# Grab unique characters from the text\n",
    "chars = sorted(list(set(text)))\n",
    "\n",
    "# Create Dictionary to map each character to an unique int\n",
    "idxTochar = {}\n",
    "for i, char in enumerate(chars):\n",
    "    idxTochar[i] = char\n",
    "    \n",
    "# Create Dictionary to map each int to a unique character\n",
    "charToidx = {}\n",
    "for i, char in enumerate(chars):\n",
    "    charToidx[char] = i\n",
    "\n",
    "encoded_text = [charToidx[char] for char in text]"
   ]
  },
  {
   "cell_type": "markdown",
   "id": "dbb029e4-61b0-4b0f-961c-c322849f675a",
   "metadata": {},
   "source": [
    "<h3>Create Input Sequence and Dataset:</h3>"
   ]
  },
  {
   "cell_type": "code",
   "execution_count": 33,
   "id": "38273fb9-23bf-424e-bea8-d6966ed078fa",
   "metadata": {},
   "outputs": [],
   "source": [
    "sequence_len = [10, 20, 30] # Input sequence length\n",
    "\n",
    "k = 2 # 0, 1, or 2, choose input length\n",
    "\n",
    "sequences, targets = [], []\n",
    "for i in range(0, len(encoded_text) - sequence_len[k]):\n",
    "    sequence = encoded_text[i: i+sequence_len[k]]\n",
    "    target = encoded_text[i+sequence_len[k]]\n",
    "    \n",
    "    sequences.append(sequence)\n",
    "    targets.append(target)\n",
    "\n",
    "sequences = torch.tensor(sequences, dtype=torch.long)\n",
    "targets = torch.tensor(targets, dtype=torch.long)\n",
    "\n",
    "class CharacterDataset(Dataset):\n",
    "    def __init__(self, features, labels):\n",
    "        self.sequences = sequences\n",
    "        self.targets = targets\n",
    "\n",
    "    def __len__(self):\n",
    "        return len(self.sequences)\n",
    "\n",
    "    def __getitem__(self, idx):\n",
    "        return self.sequences[idx], self.targets[idx]\n",
    "\n",
    "dataset = CharacterDataset(sequences, targets)\n",
    "\n",
    "batch_size = 64\n",
    "train_size = int(len(dataset) * 0.8)\n",
    "test_size = len(dataset) - train_size\n",
    "training_dataset, validation_dataset = torch.utils.data.random_split(dataset, [train_size, test_size])\n",
    "\n",
    "#Create DataLoaders for train and test sets\n",
    "training_loader = DataLoader(dataset=training_dataset, batch_size=batch_size, shuffle=True)\n",
    "validation_loader = DataLoader(dataset=validation_dataset, batch_size=batch_size, shuffle=False)"
   ]
  },
  {
   "cell_type": "markdown",
   "id": "3659acb9-6e11-4ebc-8eda-576c298b1e56",
   "metadata": {},
   "source": [
    "<h3>Model Training and Inferencing Function:</h3>"
   ]
  },
  {
   "cell_type": "code",
   "execution_count": 34,
   "id": "b5cf5d9d-2994-4762-94f1-6f83db908d07",
   "metadata": {},
   "outputs": [],
   "source": [
    "def train_model(model, criterion, optimizer, epochs, update_interval):\n",
    "    \n",
    "    training_losses = []\n",
    "    validation_accuracies = []\n",
    "    pbar_updateInterval = 0\n",
    "    starting_time = time.time()\n",
    "\n",
    "    for epoch in range(epochs):\n",
    "        model.train()\n",
    "        running_loss = 0.0\n",
    "        start_train = time.time()\n",
    "        \n",
    "        for inputs, labels in training_loader:\n",
    "            inputs, labels = inputs.to(device), labels.to(device)\n",
    "            \n",
    "            optimizer.zero_grad()\n",
    "            train_output = model(inputs)\n",
    "            train_loss = criterion(train_output, labels)\n",
    "            running_loss += train_loss.item()\n",
    "            train_loss.backward()\n",
    "            optimizer.step()\n",
    "\n",
    "        training_loss = running_loss / len(training_loader)\n",
    "        training_losses.append(training_loss)\n",
    "        \n",
    "        end_train = time.time()\n",
    "        training_time = end_train - start_train\n",
    "\n",
    "        model.eval()\n",
    "        start_valid = time.time()\n",
    "\n",
    "        with torch.no_grad():\n",
    "            total_correct = 0\n",
    "            total_samples = 0\n",
    "            \n",
    "            for inputs, labels in validation_loader:\n",
    "                inputs, labels = inputs.to(device), labels.to(device)\n",
    "                valid_output = model(inputs)\n",
    "                _, predicted = torch.max(valid_output, 1)\n",
    "                total_correct += (predicted == labels).sum().item()\n",
    "                total_samples += labels.size(0)\n",
    "        \n",
    "            validation_accuracy = total_correct / total_samples * 100\n",
    "            validation_accuracies.append(validation_accuracy)\n",
    "\n",
    "        end_valid = time.time()\n",
    "        validation_time = end_valid - start_valid\n",
    "\n",
    "        if(epoch + 1) % update_interval == 0:\n",
    "            with tqdm(total=epochs, desc=f'Epoch {epoch + 1}/{epochs}', bar_format='{l_bar}{bar}|{postfix}', dynamic_ncols=True) as pbar:\n",
    "                pbar.update(epoch+1)\n",
    "                pbar.set_postfix({'Training Loss ':' 'f'{training_losses[-1]:.4f}', 'Validation Accuracy':f'{validation_accuracies[-1]:.2f}%'})\n",
    "        \n",
    "    total_time = time.time() - starting_time\n",
    "\n",
    "    print(f'\\nTotal Duration: {total_time:.2f}s')\n",
    "    print(f'Training Duration: {training_time:.2f}s')\n",
    "    print(f'Inference Duration: {validation_time:.2f}s')\n",
    "\n",
    "    print(f'\\nFinal Training Loss: {training_losses[-1]:.4f}')\n",
    "    print(f'Final Validation Accuracy: {validation_accuracies[-1]:.2f}%')\n",
    "    \n",
    "    return training_losses, validation_accuracies, training_time, validation_time\n",
    "\n",
    "\n",
    "# Prediction function\n",
    "def charInference(model, charToidx, idxTochar, initial_string):\n",
    "    model.eval()\n",
    "    with torch.no_grad():\n",
    "        initial_input = torch.tensor([charToidx[c] for c in initial_string[-sequence_len[k]:]], dtype=torch.long).unsqueeze(0).to(device)\n",
    "        prediction = model(initial_input)\n",
    "        predicted_index = torch.argmax(prediction, dim=1).item()\n",
    "        return idxTochar[predicted_index]"
   ]
  },
  {
   "cell_type": "markdown",
   "id": "f1189dc8-603b-4e50-acb4-99243294a871",
   "metadata": {},
   "source": [
    "<h2>Next Character RNN Model</h2>"
   ]
  },
  {
   "cell_type": "markdown",
   "id": "38eeff65-6004-48af-9bb7-d11b0ece1079",
   "metadata": {},
   "source": [
    "<h3>Define RNN Model:</h3>"
   ]
  },
  {
   "cell_type": "code",
   "execution_count": 35,
   "id": "d372c88c-29a9-4d49-8efe-d605d56126c6",
   "metadata": {},
   "outputs": [],
   "source": [
    "class NextCharRNN(nn.Module):\n",
    "    def __init__(self, input_size, hidden_size, output_size):\n",
    "        super(NextCharRNN, self).__init__()\n",
    "        self.hidden_size = hidden_size\n",
    "        self.embedding = nn.Embedding(input_size, hidden_size)\n",
    "        self.rnn = nn.RNN(hidden_size, hidden_size, batch_first=True)\n",
    "        self.fc = nn.Linear(hidden_size, output_size)\n",
    "\n",
    "    def forward(self, x):\n",
    "        embedded = self.embedding(x)\n",
    "        output, _ = self.rnn(embedded)\n",
    "        output = self.fc(output[:, -1, :])\n",
    "        return output"
   ]
  },
  {
   "cell_type": "markdown",
   "id": "db90286f-9c9c-4e2c-89b3-8f175c0cf09d",
   "metadata": {},
   "source": [
    "<h3>Hyperparameters and Training:</h3>"
   ]
  },
  {
   "cell_type": "code",
   "execution_count": 36,
   "id": "484c5a6b-1b93-4921-a809-695f2e8e791a",
   "metadata": {},
   "outputs": [
    {
     "data": {
      "application/vnd.jupyter.widget-view+json": {
       "model_id": "7a497a0174d3413ca13000998705146c",
       "version_major": 2,
       "version_minor": 0
      },
      "text/plain": [
       "Epoch 10/100:   0%|          |"
      ]
     },
     "metadata": {},
     "output_type": "display_data"
    },
    {
     "data": {
      "application/vnd.jupyter.widget-view+json": {
       "model_id": "1d0f5ea9647a4af0a1d9b638c2eb478c",
       "version_major": 2,
       "version_minor": 0
      },
      "text/plain": [
       "Epoch 20/100:   0%|          |"
      ]
     },
     "metadata": {},
     "output_type": "display_data"
    },
    {
     "data": {
      "application/vnd.jupyter.widget-view+json": {
       "model_id": "93a49a3d76a7434e8a9b8e811eb3a298",
       "version_major": 2,
       "version_minor": 0
      },
      "text/plain": [
       "Epoch 30/100:   0%|          |"
      ]
     },
     "metadata": {},
     "output_type": "display_data"
    },
    {
     "data": {
      "application/vnd.jupyter.widget-view+json": {
       "model_id": "d226ef27216c4f2a93df154caeacfa92",
       "version_major": 2,
       "version_minor": 0
      },
      "text/plain": [
       "Epoch 40/100:   0%|          |"
      ]
     },
     "metadata": {},
     "output_type": "display_data"
    },
    {
     "data": {
      "application/vnd.jupyter.widget-view+json": {
       "model_id": "2b2a5fda78b745c1b169281d5794720a",
       "version_major": 2,
       "version_minor": 0
      },
      "text/plain": [
       "Epoch 50/100:   0%|          |"
      ]
     },
     "metadata": {},
     "output_type": "display_data"
    },
    {
     "data": {
      "application/vnd.jupyter.widget-view+json": {
       "model_id": "676113f49ef74098853b1ed158e92f2f",
       "version_major": 2,
       "version_minor": 0
      },
      "text/plain": [
       "Epoch 60/100:   0%|          |"
      ]
     },
     "metadata": {},
     "output_type": "display_data"
    },
    {
     "data": {
      "application/vnd.jupyter.widget-view+json": {
       "model_id": "f961c6034abf4f27ba6b8a0f9a964e89",
       "version_major": 2,
       "version_minor": 0
      },
      "text/plain": [
       "Epoch 70/100:   0%|          |"
      ]
     },
     "metadata": {},
     "output_type": "display_data"
    },
    {
     "data": {
      "application/vnd.jupyter.widget-view+json": {
       "model_id": "032f4335094947b98d26e0043c0d2231",
       "version_major": 2,
       "version_minor": 0
      },
      "text/plain": [
       "Epoch 80/100:   0%|          |"
      ]
     },
     "metadata": {},
     "output_type": "display_data"
    },
    {
     "data": {
      "application/vnd.jupyter.widget-view+json": {
       "model_id": "7e8174cdba364419bec58e96f597b3c5",
       "version_major": 2,
       "version_minor": 0
      },
      "text/plain": [
       "Epoch 90/100:   0%|          |"
      ]
     },
     "metadata": {},
     "output_type": "display_data"
    },
    {
     "data": {
      "application/vnd.jupyter.widget-view+json": {
       "model_id": "6df517d9f46d418db20f602ea65c5a5b",
       "version_major": 2,
       "version_minor": 0
      },
      "text/plain": [
       "Epoch 100/100:   0%|          |"
      ]
     },
     "metadata": {},
     "output_type": "display_data"
    },
    {
     "name": "stdout",
     "output_type": "stream",
     "text": [
      "\n",
      "Total Duration: 7.28s\n",
      "Training Duration: 0.06s\n",
      "Inference Duration: 0.01s\n",
      "\n",
      "Final Training Loss: 0.0408\n",
      "Final Validation Accuracy: 44.61%\n"
     ]
    }
   ],
   "source": [
    "input_size = len(chars) \n",
    "output_size = len(chars) \n",
    "hidden_size = 128\n",
    "\n",
    "lr = 0.003\n",
    "epochs = 100\n",
    "update_interval = 10\n",
    "\n",
    "modelRNN = NextCharRNN(input_size, hidden_size, output_size).to(device)\n",
    "criterion = nn.CrossEntropyLoss()\n",
    "optimizer = optim.Adam(modelRNN.parameters(), lr=lr)\n",
    "\n",
    "RNN_training_losses, RNN_validation_accuracies, RNN_training_time, RNN_inference_time = train_model(modelRNN, criterion, optimizer, epochs, update_interval)"
   ]
  },
  {
   "cell_type": "markdown",
   "id": "be157cc8-409a-4a28-91c0-cd408be1acaa",
   "metadata": {},
   "source": [
    "<h3>Model Inferencing and Analysis</h3>"
   ]
  },
  {
   "cell_type": "code",
   "execution_count": 37,
   "id": "151c979f-699a-44cd-8de3-0bfcbcfb6ad0",
   "metadata": {},
   "outputs": [
    {
     "name": "stdout",
     "output_type": "stream",
     "text": [
      "Original test string: The purpose of this model, is to predict the next character in a sequenc\n",
      "Updated test string: The purpose of this model, is to predict the next character in a sequence\n"
     ]
    }
   ],
   "source": [
    "# Predicting the next character\n",
    "test_string = \"The purpose of this model, is to predict the next character in a sequenc\"\n",
    "print(f\"Original test string: {test_string}\")\n",
    "predicted_char = charInference(modelRNN, charToidx, idxTochar, test_string)\n",
    "test_string += predicted_char\n",
    "print(f\"Updated test string: {test_string}\")"
   ]
  },
  {
   "cell_type": "markdown",
   "id": "11f90f5c-8bf5-4fb9-a4f1-d220721f28ba",
   "metadata": {},
   "source": [
    "<h2>Next Character LSTM Model</h2>"
   ]
  },
  {
   "cell_type": "markdown",
   "id": "aed9763e-9dcb-4a36-a8bb-a7249fc4a753",
   "metadata": {},
   "source": [
    "<h3>Define LSTM Model:</h3>"
   ]
  },
  {
   "cell_type": "code",
   "execution_count": 38,
   "id": "3ca5e071-3b1b-4b3b-9b71-3fefb8c6914e",
   "metadata": {},
   "outputs": [],
   "source": [
    "class NextCharLSTM(nn.Module):\n",
    "    def __init__(self, input_size, hidden_size, output_size):\n",
    "        super(NextCharLSTM, self).__init__()\n",
    "        self.hidden_size = hidden_size\n",
    "        self.embedding = nn.Embedding(input_size, hidden_size)\n",
    "        self.lstm = nn.LSTM(hidden_size, hidden_size, batch_first=True)\n",
    "        self.fc = nn.Linear(hidden_size, output_size)\n",
    "\n",
    "    def forward(self, x):\n",
    "        embedded = self.embedding(x)\n",
    "        output, _ = self.lstm(embedded)\n",
    "        output = self.fc(output[:, -1, :])\n",
    "        return output"
   ]
  },
  {
   "cell_type": "markdown",
   "id": "ec2f9b9e-4684-4d7f-80c6-8f9e1d8b4af6",
   "metadata": {},
   "source": [
    "<h3>Hyperparameters and Training:</h3>"
   ]
  },
  {
   "cell_type": "code",
   "execution_count": 39,
   "id": "61bf9924-11bd-4a67-aaa8-7101747026a4",
   "metadata": {},
   "outputs": [
    {
     "data": {
      "application/vnd.jupyter.widget-view+json": {
       "model_id": "706e5f59a26142be923815cf015225c5",
       "version_major": 2,
       "version_minor": 0
      },
      "text/plain": [
       "Epoch 10/100:   0%|          |"
      ]
     },
     "metadata": {},
     "output_type": "display_data"
    },
    {
     "data": {
      "application/vnd.jupyter.widget-view+json": {
       "model_id": "b10659e6ac13434f8547fcaf0af490f6",
       "version_major": 2,
       "version_minor": 0
      },
      "text/plain": [
       "Epoch 20/100:   0%|          |"
      ]
     },
     "metadata": {},
     "output_type": "display_data"
    },
    {
     "data": {
      "application/vnd.jupyter.widget-view+json": {
       "model_id": "53496c1c47e14209af0e6a2271dcf6b7",
       "version_major": 2,
       "version_minor": 0
      },
      "text/plain": [
       "Epoch 30/100:   0%|          |"
      ]
     },
     "metadata": {},
     "output_type": "display_data"
    },
    {
     "data": {
      "application/vnd.jupyter.widget-view+json": {
       "model_id": "41136a39e7b14564898e4c58559a68b0",
       "version_major": 2,
       "version_minor": 0
      },
      "text/plain": [
       "Epoch 40/100:   0%|          |"
      ]
     },
     "metadata": {},
     "output_type": "display_data"
    },
    {
     "data": {
      "application/vnd.jupyter.widget-view+json": {
       "model_id": "8ca8dbeaa5fa4fc9b04d4ad433a8ad24",
       "version_major": 2,
       "version_minor": 0
      },
      "text/plain": [
       "Epoch 50/100:   0%|          |"
      ]
     },
     "metadata": {},
     "output_type": "display_data"
    },
    {
     "data": {
      "application/vnd.jupyter.widget-view+json": {
       "model_id": "cefcd9c8fdea417cb82110c5b472a94e",
       "version_major": 2,
       "version_minor": 0
      },
      "text/plain": [
       "Epoch 60/100:   0%|          |"
      ]
     },
     "metadata": {},
     "output_type": "display_data"
    },
    {
     "data": {
      "application/vnd.jupyter.widget-view+json": {
       "model_id": "f97b0ce5a84848f38ceeec7ba88e72ef",
       "version_major": 2,
       "version_minor": 0
      },
      "text/plain": [
       "Epoch 70/100:   0%|          |"
      ]
     },
     "metadata": {},
     "output_type": "display_data"
    },
    {
     "data": {
      "application/vnd.jupyter.widget-view+json": {
       "model_id": "60bfae1e306e47c8b920e022274531d9",
       "version_major": 2,
       "version_minor": 0
      },
      "text/plain": [
       "Epoch 80/100:   0%|          |"
      ]
     },
     "metadata": {},
     "output_type": "display_data"
    },
    {
     "data": {
      "application/vnd.jupyter.widget-view+json": {
       "model_id": "537512f630cc43fab8daf595ddd7bdfc",
       "version_major": 2,
       "version_minor": 0
      },
      "text/plain": [
       "Epoch 90/100:   0%|          |"
      ]
     },
     "metadata": {},
     "output_type": "display_data"
    },
    {
     "data": {
      "application/vnd.jupyter.widget-view+json": {
       "model_id": "6a24cdb485c645bcb234276cbb22a924",
       "version_major": 2,
       "version_minor": 0
      },
      "text/plain": [
       "Epoch 100/100:   0%|          |"
      ]
     },
     "metadata": {},
     "output_type": "display_data"
    },
    {
     "name": "stdout",
     "output_type": "stream",
     "text": [
      "\n",
      "Total Duration: 8.44s\n",
      "Training Duration: 0.07s\n",
      "Inference Duration: 0.01s\n",
      "\n",
      "Final Training Loss: 0.0032\n",
      "Final Validation Accuracy: 50.11%\n"
     ]
    }
   ],
   "source": [
    "input_size = len(chars) \n",
    "output_size = len(chars) \n",
    "hidden_size = 256\n",
    "\n",
    "lr = 0.001\n",
    "epochs = 100\n",
    "update_interval = 10\n",
    "\n",
    "modelLSTM = NextCharLSTM(len(chars), hidden_size, len(chars)).to(device)\n",
    "criterion = nn.CrossEntropyLoss()\n",
    "optimizer = optim.Adam(modelLSTM.parameters(), lr=lr)\n",
    "\n",
    "LSTM_training_losses, LSTM_validation_accuracies, LSTM_training_time, LSTM_inference_time = train_model(modelLSTM, criterion, optimizer, epochs, update_interval)"
   ]
  },
  {
   "cell_type": "markdown",
   "id": "edbf3d9c-938c-4bec-a966-daef6e05ea24",
   "metadata": {},
   "source": [
    "<h3>Model Inferencing and Analysis</h3>"
   ]
  },
  {
   "cell_type": "code",
   "execution_count": 40,
   "id": "6c154e67-b328-4477-9803-b4b8f04b9fea",
   "metadata": {},
   "outputs": [
    {
     "name": "stdout",
     "output_type": "stream",
     "text": [
      "Original test string: The purpose of this model, is to predict the next character in a sequenc\n",
      "Updated test string: The purpose of this model, is to predict the next character in a sequence\n"
     ]
    }
   ],
   "source": [
    "# Predicting the next character\n",
    "test_string = \"The purpose of this model, is to predict the next character in a sequenc\"\n",
    "print(f\"Original test string: {test_string}\")\n",
    "predicted_char = charInference(modelLSTM, charToidx, idxTochar, test_string)\n",
    "test_string += predicted_char\n",
    "print(f\"Updated test string: {test_string}\")"
   ]
  },
  {
   "cell_type": "markdown",
   "id": "9fc6998e-9818-42a3-a6e4-dfaef7c17e0c",
   "metadata": {},
   "source": [
    "<h2>Next Character GRU Model</h2>"
   ]
  },
  {
   "cell_type": "markdown",
   "id": "0e1ba69c-9e12-45ea-b2f1-1c830f02968d",
   "metadata": {},
   "source": [
    "<h3>Define GRU Model:</h3>"
   ]
  },
  {
   "cell_type": "code",
   "execution_count": 41,
   "id": "b0d19a51-a9b2-488a-bfa5-c76b430d395e",
   "metadata": {},
   "outputs": [],
   "source": [
    "class NextCharGRU(nn.Module):\n",
    "    def __init__(self, input_size, hidden_size, output_size):\n",
    "        super(NextCharGRU, self).__init__()\n",
    "        self.hidden_size = hidden_size\n",
    "        self.embedding = nn.Embedding(input_size, hidden_size)\n",
    "        self.gru = nn.GRU(hidden_size, hidden_size, batch_first=True)\n",
    "        self.fc = nn.Linear(hidden_size, output_size)\n",
    "\n",
    "    def forward(self, x):\n",
    "        embedded = self.embedding(x)\n",
    "        output, _ = self.gru(embedded)\n",
    "        output = self.fc(output[:, -1, :])\n",
    "        return output"
   ]
  },
  {
   "cell_type": "markdown",
   "id": "68609816-e81f-421d-b822-cb9d9977cd45",
   "metadata": {},
   "source": [
    "<h3>Hyperparameters and Training:</h3>"
   ]
  },
  {
   "cell_type": "code",
   "execution_count": 42,
   "id": "a1719915-c635-438a-a2f8-1f556a183c14",
   "metadata": {},
   "outputs": [
    {
     "data": {
      "application/vnd.jupyter.widget-view+json": {
       "model_id": "4a90660b4c144388923afd9cf04e7c4b",
       "version_major": 2,
       "version_minor": 0
      },
      "text/plain": [
       "Epoch 10/100:   0%|          |"
      ]
     },
     "metadata": {},
     "output_type": "display_data"
    },
    {
     "data": {
      "application/vnd.jupyter.widget-view+json": {
       "model_id": "0338f29fe9864edb903122d586a20594",
       "version_major": 2,
       "version_minor": 0
      },
      "text/plain": [
       "Epoch 20/100:   0%|          |"
      ]
     },
     "metadata": {},
     "output_type": "display_data"
    },
    {
     "data": {
      "application/vnd.jupyter.widget-view+json": {
       "model_id": "8438aab28f3247b0a8f1299fc5913f1b",
       "version_major": 2,
       "version_minor": 0
      },
      "text/plain": [
       "Epoch 30/100:   0%|          |"
      ]
     },
     "metadata": {},
     "output_type": "display_data"
    },
    {
     "data": {
      "application/vnd.jupyter.widget-view+json": {
       "model_id": "8b69f31a61f1454aa7c05de33d06d20f",
       "version_major": 2,
       "version_minor": 0
      },
      "text/plain": [
       "Epoch 40/100:   0%|          |"
      ]
     },
     "metadata": {},
     "output_type": "display_data"
    },
    {
     "data": {
      "application/vnd.jupyter.widget-view+json": {
       "model_id": "9bcfb41145644102bcd5ba73a291f4ea",
       "version_major": 2,
       "version_minor": 0
      },
      "text/plain": [
       "Epoch 50/100:   0%|          |"
      ]
     },
     "metadata": {},
     "output_type": "display_data"
    },
    {
     "data": {
      "application/vnd.jupyter.widget-view+json": {
       "model_id": "64c9bba7c6d84fa38311238b78291965",
       "version_major": 2,
       "version_minor": 0
      },
      "text/plain": [
       "Epoch 60/100:   0%|          |"
      ]
     },
     "metadata": {},
     "output_type": "display_data"
    },
    {
     "data": {
      "application/vnd.jupyter.widget-view+json": {
       "model_id": "1e3689e5b00e4a478da02dc023dc5c8b",
       "version_major": 2,
       "version_minor": 0
      },
      "text/plain": [
       "Epoch 70/100:   0%|          |"
      ]
     },
     "metadata": {},
     "output_type": "display_data"
    },
    {
     "data": {
      "application/vnd.jupyter.widget-view+json": {
       "model_id": "227336f68909490ca65a6214a8dbb14e",
       "version_major": 2,
       "version_minor": 0
      },
      "text/plain": [
       "Epoch 80/100:   0%|          |"
      ]
     },
     "metadata": {},
     "output_type": "display_data"
    },
    {
     "data": {
      "application/vnd.jupyter.widget-view+json": {
       "model_id": "7a331823615043f48ec89a2489556f85",
       "version_major": 2,
       "version_minor": 0
      },
      "text/plain": [
       "Epoch 90/100:   0%|          |"
      ]
     },
     "metadata": {},
     "output_type": "display_data"
    },
    {
     "data": {
      "application/vnd.jupyter.widget-view+json": {
       "model_id": "298167e72ab14d80a3455536c692d42b",
       "version_major": 2,
       "version_minor": 0
      },
      "text/plain": [
       "Epoch 100/100:   0%|          |"
      ]
     },
     "metadata": {},
     "output_type": "display_data"
    },
    {
     "name": "stdout",
     "output_type": "stream",
     "text": [
      "\n",
      "Total Duration: 8.15s\n",
      "Training Duration: 0.07s\n",
      "Inference Duration: 0.01s\n",
      "\n",
      "Final Training Loss: 0.0106\n",
      "Final Validation Accuracy: 45.45%\n"
     ]
    }
   ],
   "source": [
    "input_size = len(chars) \n",
    "output_size = len(chars) \n",
    "hidden_size = 256\n",
    "\n",
    "lr = 0.001\n",
    "epochs = 100\n",
    "update_interval = 10\n",
    "\n",
    "modelGRU = NextCharGRU(len(chars), hidden_size, len(chars)).to(device)\n",
    "criterion = nn.CrossEntropyLoss()\n",
    "optimizer = optim.Adam(modelGRU.parameters(), lr=lr)\n",
    "\n",
    "GRU_training_losses, GRU_validation_accuracies, GRU_training_time, GRU_inference_time = train_model(modelGRU, criterion, optimizer, epochs, update_interval)"
   ]
  },
  {
   "cell_type": "markdown",
   "id": "39375ba2-5468-4cff-a68b-eea667d141c9",
   "metadata": {},
   "source": [
    "<h3>Model Inferencing and Analysis</h3>"
   ]
  },
  {
   "cell_type": "code",
   "execution_count": 43,
   "id": "577a87d5-e4f6-4f6e-a270-ce366dde56f0",
   "metadata": {},
   "outputs": [
    {
     "name": "stdout",
     "output_type": "stream",
     "text": [
      "Original test string: The purpose of this model, is to predict the next character in a sequenc\n",
      "Updated test string: The purpose of this model, is to predict the next character in a sequence\n"
     ]
    }
   ],
   "source": [
    "# Predicting the next character\n",
    "test_string = \"The purpose of this model, is to predict the next character in a sequenc\"\n",
    "print(f\"Original test string: {test_string}\")\n",
    "predicted_char = charInference(modelGRU, charToidx, idxTochar, test_string)\n",
    "test_string += predicted_char\n",
    "print(f\"Updated test string: {test_string}\")"
   ]
  },
  {
   "cell_type": "markdown",
   "id": "6974e6d4-64ab-4f5a-b502-9e904ccbadce",
   "metadata": {},
   "source": [
    "<h2>Comparing Model Training Experiences</h2>"
   ]
  },
  {
   "cell_type": "code",
   "execution_count": 44,
   "id": "320ec769-e01b-4d90-b0ac-40a930a345c8",
   "metadata": {},
   "outputs": [
    {
     "data": {
      "image/png": "[encoded data removed]",
      "text/plain": [
       "<Figure size 1200x400 with 2 Axes>"
      ]
     },
     "metadata": {},
     "output_type": "display_data"
    }
   ],
   "source": [
    "epochs_range = range(1, epochs + 1)\n",
    "# Plot Training Loss\n",
    "plt.figure(figsize=(12, 4))\n",
    "plt.subplot(1, 2, 1)\n",
    "plt.plot(epochs_range, RNN_training_losses, label='RNN Loss', color = 'red')\n",
    "plt.plot(epochs_range, LSTM_training_losses, label='LSTM Loss', color = 'blue')\n",
    "plt.plot(epochs_range, GRU_training_losses, label='GRU Loss', color = 'orange')\n",
    "plt.title('Training Loss')\n",
    "plt.xlabel('Epoch')\n",
    "plt.ylabel('Loss')\n",
    "plt.legend()\n",
    "\n",
    "# Plot Training and Validation Accuracy\n",
    "plt.subplot(1, 2, 2)\n",
    "plt.plot(epochs_range, RNN_validation_accuracies, label='RNN Accuracy', color = 'red')\n",
    "plt.plot(epochs_range, LSTM_validation_accuracies, label='LSTM Accuracy', color = 'blue')\n",
    "plt.plot(epochs_range, GRU_validation_accuracies, label='GRU Accuracy', color = 'orange')\n",
    "plt.title('Validation Accuracy')\n",
    "plt.xlabel('Epoch')\n",
    "plt.ylabel('Accuracy')\n",
    "plt.legend()\n",
    "\n",
    "plt.tight_layout()\n",
    "plt.show()"
   ]
  },
  {
   "cell_type": "code",
   "execution_count": 45,
   "id": "507e8440-6e15-45b3-8dce-a0df2d690c58",
   "metadata": {},
   "outputs": [
    {
     "name": "stdout",
     "output_type": "stream",
     "text": [
      "========================================================================================================\n",
      "Layer (type (var_name))                  Kernel Shape     Output Shape     Param #          Mult-Adds\n",
      "========================================================================================================\n",
      "NextCharRNN (NextCharRNN)                --               [30, 45]         --               --\n",
      "├─Embedding (embedding)                  --               [30, 45, 128]    5,760            172,800\n",
      "│    └─weight                            [128, 45]                         └─5,760\n",
      "├─RNN (rnn)                              --               [30, 45, 128]    33,024           44,582,400\n",
      "│    └─weight_ih_l0                      [128, 128]                        ├─16,384\n",
      "│    └─weight_hh_l0                      [128, 128]                        ├─16,384\n",
      "│    └─bias_ih_l0                        [128]                             ├─128\n",
      "│    └─bias_hh_l0                        [128]                             └─128\n",
      "├─Linear (fc)                            --               [30, 45]         5,805            174,150\n",
      "│    └─weight                            [128, 45]                         ├─5,760\n",
      "│    └─bias                              [45]                              └─45\n",
      "========================================================================================================\n",
      "Total params: 44,589\n",
      "Trainable params: 44,589\n",
      "Non-trainable params: 0\n",
      "Total mult-adds (Units.MEGABYTES): 44.93\n",
      "========================================================================================================\n",
      "Input size (MB): 0.01\n",
      "Forward/backward pass size (MB): 2.78\n",
      "Params size (MB): 0.18\n",
      "Estimated Total Size (MB): 2.96\n",
      "========================================================================================================\n",
      "\n",
      "========================================================================================================\n",
      "Layer (type (var_name))                  Kernel Shape     Output Shape     Param #          Mult-Adds\n",
      "========================================================================================================\n",
      "NextCharLSTM (NextCharLSTM)              --               [30, 45]         --               --\n",
      "├─Embedding (embedding)                  --               [30, 45, 256]    11,520           345,600\n",
      "│    └─weight                            [256, 45]                         └─11,520\n",
      "├─LSTM (lstm)                            --               [30, 45, 256]    526,336          710,553,600\n",
      "│    └─weight_ih_l0                      [1024, 256]                       ├─262,144\n",
      "│    └─weight_hh_l0                      [1024, 256]                       ├─262,144\n",
      "│    └─bias_ih_l0                        [1024]                            ├─1,024\n",
      "│    └─bias_hh_l0                        [1024]                            └─1,024\n",
      "├─Linear (fc)                            --               [30, 45]         11,565           346,950\n",
      "│    └─weight                            [256, 45]                         ├─11,520\n",
      "│    └─bias                              [45]                              └─45\n",
      "========================================================================================================\n",
      "Total params: 549,421\n",
      "Trainable params: 549,421\n",
      "Non-trainable params: 0\n",
      "Total mult-adds (Units.MEGABYTES): 711.25\n",
      "========================================================================================================\n",
      "Input size (MB): 0.01\n",
      "Forward/backward pass size (MB): 5.54\n",
      "Params size (MB): 2.20\n",
      "Estimated Total Size (MB): 7.75\n",
      "========================================================================================================\n",
      "\n",
      "========================================================================================================\n",
      "Layer (type (var_name))                  Kernel Shape     Output Shape     Param #          Mult-Adds\n",
      "========================================================================================================\n",
      "NextCharGRU (NextCharGRU)                --               [30, 45]         --               --\n",
      "├─Embedding (embedding)                  --               [30, 45, 256]    11,520           345,600\n",
      "│    └─weight                            [256, 45]                         └─11,520\n",
      "├─GRU (gru)                              --               [30, 45, 256]    394,752          532,915,200\n",
      "│    └─weight_ih_l0                      [768, 256]                        ├─196,608\n",
      "│    └─weight_hh_l0                      [768, 256]                        ├─196,608\n",
      "│    └─bias_ih_l0                        [768]                             ├─768\n",
      "│    └─bias_hh_l0                        [768]                             └─768\n",
      "├─Linear (fc)                            --               [30, 45]         11,565           346,950\n",
      "│    └─weight                            [256, 45]                         ├─11,520\n",
      "│    └─bias                              [45]                              └─45\n",
      "========================================================================================================\n",
      "Total params: 417,837\n",
      "Trainable params: 417,837\n",
      "Non-trainable params: 0\n",
      "Total mult-adds (Units.MEGABYTES): 533.61\n",
      "========================================================================================================\n",
      "Input size (MB): 0.01\n",
      "Forward/backward pass size (MB): 5.54\n",
      "Params size (MB): 1.67\n",
      "Estimated Total Size (MB): 7.22\n",
      "========================================================================================================\n",
      "\n",
      "========================================= Total Time per Model =========================================\n",
      "RNN  Training Duration: 0.06s, RNN Inference Duration: \t0.01s\n",
      "LSTM Training Duration: 0.07s, LSTM Inference Duration: 0.01s\n",
      "GRU  Training Duration: 0.07s, GRU Inference Duration: \t0.01s\n",
      "========================================================================================================\n",
      "\n",
      "========================================= Accuracies per Model =========================================\n",
      "RNN  Training Loss: 0.0408,  RNN Inference Accuracy: 44.61%\n",
      "LSTM Training Loss: 0.0032, LSTM Inference Accuracy: 50.11%\n",
      "GRU  Training Loss: 0.0106,  GRU Inference Accuracy: 45.45%\n",
      "========================================================================================================\n"
     ]
    }
   ],
   "source": [
    "RNN_stats = summary(modelRNN, (sequence_len[k], input_size), dtypes=[torch.long], verbose=2, col_width=16, col_names=[\"kernel_size\", \"output_size\", \"num_params\", \"mult_adds\"], row_settings=[\"var_names\"])\n",
    "print()\n",
    "LSTM_stats = summary(modelLSTM, (sequence_len[k], input_size), dtypes=[torch.long], verbose=2, col_width=16, col_names=[\"kernel_size\", \"output_size\", \"num_params\", \"mult_adds\"], row_settings=[\"var_names\"])\n",
    "print()\n",
    "GRU_stats = summary(modelGRU, (sequence_len[k], input_size), dtypes=[torch.long], verbose=2, col_width=16, col_names=[\"kernel_size\", \"output_size\", \"num_params\", \"mult_adds\"], row_settings=[\"var_names\"])\n",
    "\n",
    "print(f'\\n========================================= Total Time per Model =========================================')\n",
    "print(f'RNN  Training Duration: {RNN_training_time:.2f}s, RNN Inference Duration: \\t{RNN_inference_time:.2f}s')\n",
    "print(f'LSTM Training Duration: {LSTM_training_time:.2f}s, LSTM Inference Duration: {LSTM_inference_time:.2f}s')\n",
    "print(f'GRU  Training Duration: {GRU_training_time:.2f}s, GRU Inference Duration: \\t{GRU_inference_time:.2f}s')\n",
    "print(f'========================================================================================================')\n",
    "\n",
    "print(f'\\n========================================= Accuracies per Model =========================================')\n",
    "print(f'RNN  Training Loss: {RNN_training_losses[-1]:.4f},  RNN Inference Accuracy: {RNN_validation_accuracies[-1]:.2f}%')\n",
    "print(f'LSTM Training Loss: {LSTM_training_losses[-1]:.4f}, LSTM Inference Accuracy: {LSTM_validation_accuracies[-1]:.2f}%')\n",
    "print(f'GRU  Training Loss: {GRU_training_losses[-1]:.4f},  GRU Inference Accuracy: {GRU_validation_accuracies[-1]:.2f}%')\n",
    "print(f'========================================================================================================')"
   ]
  }
 ],
 "metadata": {
  "kernelspec": {
   "display_name": "Python 3 (ipykernel)",
   "language": "python",
   "name": "python3"
  },
  "language_info": {
   "codemirror_mode": {
    "name": "ipython",
    "version": 3
   },
   "file_extension": ".py",
   "mimetype": "text/x-python",
   "name": "python",
   "nbconvert_exporter": "python",
   "pygments_lexer": "ipython3",
   "version": "3.11.5"
  }
 },
 "nbformat": 4,
 "nbformat_minor": 5
}
